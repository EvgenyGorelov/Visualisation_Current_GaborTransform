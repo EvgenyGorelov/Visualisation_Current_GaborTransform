{
 "cells": [
  {
   "cell_type": "markdown",
   "metadata": {},
   "source": [
    "# Visualisation of electric current spectra (Gabor transform) obtained by *cntr* code\n",
    "\n",
    "### Warning: material-specific code, use only for La<sub>2</sub>CuO<sub>4</sub>, implicit energy and time renormalization 0.43, based on compound bandwidth is used. Only *x* field projection is read from the current file, i.e. the value of current is multiplied by sqrt(2) for the [110] polarization\n",
    "\n",
    "\n",
    "#### File name: **gt.py** \n",
    "#### Input:\n",
    "- Electric current versus time **j.out**, output of *cntr* code\n",
    "  - Energy/time renormalization is **0.43** (hard-coded, material-specific for La<sub>2</sub>CuO<sub>4</sub> due to material bandwidth)\n",
    "- Electric field profile **Pulse_xy.dat**, output of *cntr* code\n",
    "  - Only *x* field projection is read from the current file, i.e. the value of field strength is multiplied by sqrt(2) for the [110] polarization\n",
    "  \n",
    "#### Output:\n",
    " - The **Jxy.png** file. \n",
    "  - The upper panel shows electric field profile and electric current\n",
    "  - The middle panel shows electric current spectra vs time\n",
    "  - The lower panel shows spectra of electric field (averaged) and electric current (averaged, and at two certain times)\n",
    " - **x.dat**, **y.dat** files: values of time and current used as an input for **FFT** \n",
    " - **xf.dat**, **yf.dat** files: values of frequency and current of the **FFT** result\n",
    "### Code\n",
    "\n",
    "#### Loading libraries:"
   ]
  },
  {
   "cell_type": "code",
   "execution_count": 1,
   "metadata": {},
   "outputs": [],
   "source": [
    "import numpy as np\n",
    "from numpy import arange, cos, sin\n",
    "import os, sys\n",
    "import re\n",
    "import shutil\n",
    "import matplotlib.pyplot as plt\n",
    "from matplotlib.colors import LogNorm\n",
    "import pylab\n",
    "from scipy.fftpack import fft, ifft\n",
    "import scipy\n",
    "from pylab import *\n",
    "import sys\n",
    "import math\n",
    "\n",
    "from numpy import sin, linspace, pi\n",
    "from pylab import plot, show, title, xlabel, ylabel, subplot\n",
    "from scipy import fft, arange\n",
    "#from scipy.fftpack import fft"
   ]
  },
  {
   "cell_type": "markdown",
   "metadata": {},
   "source": [
    "#### Setting calculation parameters:"
   ]
  },
  {
   "cell_type": "code",
   "execution_count": 2,
   "metadata": {},
   "outputs": [],
   "source": [
    "#PARAMETERS of DMFT calculation:\n",
    "h = 0.01\n",
    "# time step as in Martin's code\n",
    "Scaling=0.43\n",
    "0.43\n",
    "\n",
    "#PARAMETERS for Fourier transform:\n",
    "MaxFreq2D=6\n",
    "# Max frequency for spectral 2D plots in eV\n",
    "PrefactorJ=80\n",
    "PrefactorJF=164\n",
    "\n",
    "#PARAMETERS for Gabor transform:\n",
    "wPlotMax=16\n",
    "tick_spacingW = 2.0\n",
    "# tick step in W (eV)\n",
    "tick_spacingT = 2\n",
    "# tick step in t (fs) \n",
    "# wPlotMax, tick_spacing in eV for Gabor 3D plot\n",
    "WGinp=2.4\n",
    "# Width of Gabor Gaussian in fs"
   ]
  },
  {
   "cell_type": "markdown",
   "metadata": {},
   "source": [
    "#### Reading input files:"
   ]
  },
  {
   "cell_type": "code",
   "execution_count": 3,
   "metadata": {},
   "outputs": [
    {
     "data": {
      "text/plain": [
       "<function TextIOWrapper.close()>"
      ]
     },
     "execution_count": 3,
     "metadata": {},
     "output_type": "execute_result"
    }
   ],
   "source": [
    "f = open('j.out', \"r\")\n",
    "\n",
    "t_1 = np.array([])\n",
    "Jxy = np.array([])\n",
    "Axy = np.array([])\n",
    "\n",
    "nl=0\n",
    "for line in f:\n",
    "\t nl=nl+1\n",
    "\t val1=(line.split()[0])\n",
    "\t t_1=np.append(t_1,float(val1))\n",
    "\t val2=(line.split()[2])\n",
    "\t Jxy=np.append(Jxy,float(val2))\n",
    "f.close\n",
    "#print(Jxy)\n",
    "f = open('Pulse_xy.dat', \"r\")\n",
    "next(f)\n",
    "next(f)\n",
    "\n",
    "\n",
    "for line in f:\n",
    "\tval1=(line.split()[0])\n",
    "\tval2=(line.split()[1])\n",
    "#\tval3=(line.split()[2])\n",
    "\tAxy=np.append(Axy,float(val2))\n",
    "#\tAxy=np.append(Axy,np.sqrt(float(val2)**2+float(val3**2)))\n",
    "     \n",
    "f.close"
   ]
  },
  {
   "cell_type": "markdown",
   "metadata": {},
   "source": [
    "#### Performing FFT:"
   ]
  },
  {
   "cell_type": "code",
   "execution_count": 4,
   "metadata": {},
   "outputs": [
    {
     "name": "stdout",
     "output_type": "stream",
     "text": [
      "1371\n"
     ]
    }
   ],
   "source": [
    "# Number of sample points:\n",
    "\n",
    "N = nl\n",
    "print(nl)\n",
    "\n",
    "#T = 1/627.29\n",
    "x=t_1*h*0.66/Scaling\n",
    "y = Jxy*np.sqrt(2)\n",
    "yA= Axy*np.sqrt(2)\n",
    "#*np.sqrt(2)\n",
    "\n",
    "\n",
    "\n",
    "#y = np.sin(50.0 * 2.0*np.pi*x) + 0.5*np.sin(80.0 * 2.0*np.pi*x)\n",
    "yf = fft(y)\n",
    "yfA = fft(yA)\n",
    "#xf =  np.linspace(0.0, N/2, N)\n",
    "#Given sampling rate FSample and transform blocksize N, you can calculate \n",
    "#the frequency resolution deltaF, sampling interval deltaT, \n",
    "#and total capture time capT using the relationships:\n",
    "#\n",
    "#deltaT = 1/FSample = capT/N\n",
    "#deltaF = 1/capT = FSample/N\n",
    "#Keep in mind also that the FFT returns value from 0 to FSample, \n",
    "#or equivalently -FSample/2 to FSample/2. \n",
    "#In your plot, you're already dropping the -FSample/2 to 0 part\n",
    "#\n",
    "# From StackOverflow\n",
    "FreqStep=4.13/(N*h*0.66/Scaling)\n",
    "wmax=0.5*N*FreqStep\n",
    "xf =  np.linspace(0.0, wmax, N//2)\n",
    "\n",
    "#print(x[N-1])\n",
    "#print(wmax)\n",
    "#print(N//2)\n",
    "\n",
    "import matplotlib.pyplot as plt\n",
    "#plt.plot(xf, 2.0/N * np.abs(yf[0:N//2]))\n",
    "\n",
    "np.savetxt('xfj.dat',xf)\n",
    "np.savetxt('yfj.dat',np.abs(yf))\n",
    "np.savetxt('x.dat',x)\n",
    "np.savetxt('y.dat',y)"
   ]
  },
  {
   "cell_type": "markdown",
   "metadata": {},
   "source": [
    "#### Performing Gabor transform as FFT of Gaussian-enveloped timeslices:"
   ]
  },
  {
   "cell_type": "code",
   "execution_count": 5,
   "metadata": {},
   "outputs": [],
   "source": [
    "#Ns = np.int(x[N-1])\n",
    "\n",
    "Ns=np.int(2*N*h*0.66/(WGinp*Scaling))\n",
    "# number of Gabor slices, one slice is (total time / W ) * 2 fs\n",
    "WG=2*x[N-1]/Ns\n",
    "# new Gabor Widtn, in order to maintain integer number of slices\n",
    "GaborSliceWidth=WG/2\n",
    "\n",
    "gt = empty([N,Ns])\n",
    "#gt[:]=yf\n",
    "\n",
    "#print((Ns+1)*WG/2.0)\n",
    "#print(x[N-1])\n",
    "\n",
    "# i below is already in fs, and j not\n",
    "\n",
    "yG = empty([N])\n",
    "\n",
    "for i in range(Ns):\n",
    "    for j in range(N):\n",
    "        yG[j]=y[j]*exp(-((j*h*0.66/Scaling)-i*GaborSliceWidth)**2/(WG**2))\n",
    "      # yG[j]=yA[j]*exp(-((j*h*0.66)-i)**2/(WG**2))\n",
    "      # yG=y\n",
    "    yfG=fft(yG)\n",
    "    gt[:,i]= np.abs(yfG) "
   ]
  },
  {
   "cell_type": "markdown",
   "metadata": {},
   "source": [
    "#### Making three-panel plot:"
   ]
  },
  {
   "cell_type": "code",
   "execution_count": 9,
   "metadata": {},
   "outputs": [
    {
     "name": "stderr",
     "output_type": "stream",
     "text": [
      "/usr/local/lib/python3.7/site-packages/ipykernel_launcher.py:31: DeprecationWarning: object of type <class 'float'> cannot be safely interpreted as an integer.\n",
      "/usr/local/lib/python3.7/site-packages/ipykernel_launcher.py:32: DeprecationWarning: object of type <class 'numpy.float64'> cannot be safely interpreted as an integer.\n",
      "No handles with labels found to put in legend.\n"
     ]
    },
    {
     "data": {
      "image/png": "[encoded data removed]",
      "text/plain": [
       "<Figure size 432x288 with 3 Axes>"
      ]
     },
     "metadata": {
      "needs_background": "light"
     },
     "output_type": "display_data"
    }
   ],
   "source": [
    "plt.subplots_adjust(hspace=0.7)\n",
    "subplot(3,1,1)\n",
    "#plt.xlim(0,x[N-1])\n",
    "plt.xlim(0,(Ns+1)*WG/2.0)\n",
    "plt.xticks(np.arange(0, 1+np.int((Ns+1)*WG/2.0), step=2))\n",
    "plot(x,yA, label=\"Vector potential\")\n",
    "plot(x,y*PrefactorJ, label=\"Current\")\n",
    "xlabel('Time (fs)')\n",
    "ylabel('Axy, Jxy*8')\n",
    "plt.legend(bbox_to_anchor=(0.70, 1), loc='upper left', borderaxespad=0)\n",
    "\n",
    "\n",
    "subplot(3,1,3)\n",
    "plt.xlim(0,MaxFreq2D)\n",
    "plot(xf, 2.0/N * np.abs(yfA[0:N//2]), label=\"Vector potential, FT\")\n",
    "plot(xf, PrefactorJF*2.0/N * np.abs(yf[0:N//2]), label=\"Current, FT\")\n",
    "plot(xf, 2*PrefactorJF*2.0/N * np.abs(gt[0:N//2, 7]), label=\"Current, 10fs\")\n",
    "plot(xf, 4*PrefactorJF*2.0/N * np.abs(gt[0:N//2, 11]), label=\"Current, 15fs\")\n",
    "plt.legend(bbox_to_anchor=(0.65, 1.4), loc='upper left', borderaxespad=0)\n",
    "xlabel(r'$\\omega$ (eV)')\n",
    "ylabel('FT')\n",
    "\n",
    "\n",
    "wPlotMaxFreqSteps=wPlotMax/FreqStep\n",
    "subplot(3,1,2)\n",
    "plt.xlim(0,Ns)\n",
    "plt.ylim(0,wPlotMaxFreqSteps)\n",
    "plt.title('Spectrum of current')\n",
    "xlabel('Time (fs)')\n",
    "ylabel(r'$\\omega$ (eV)')\n",
    "plt.yticks( np.linspace(0.0, wPlotMax/FreqStep, (wPlotMax/tick_spacingW+1)), np.arange(0, wPlotMax, tick_spacingW))\n",
    "plt.xticks( np.linspace(0.0, ((Ns-1)*(1+np.trunc(x[N-1]/tick_spacingT))*tick_spacingT/x[N-1]), (2+np.trunc(x[N-1]/tick_spacingT))), np.arange(0,(2+np.trunc(x[N-1])),tick_spacingT))\n",
    "#colors.LogNorm()\n",
    "plt.pcolormesh(gt,norm=LogNorm(vmin=0.003, vmax=20))\n",
    "plt.legend(bbox_to_anchor=(0.75, 1), loc='upper left', borderaxespad=0)\n",
    "#plt.colorbar(label=\"Current, GT\")\n",
    "\n",
    "#plt.savefig(\"Jxy.png\")\n",
    "plt.show()"
   ]
  },
  {
   "cell_type": "code",
   "execution_count": null,
   "metadata": {},
   "outputs": [],
   "source": []
  }
 ],
 "metadata": {
  "kernelspec": {
   "display_name": "Python 3",
   "language": "python",
   "name": "python3"
  },
  "language_info": {
   "codemirror_mode": {
    "name": "ipython",
    "version": 3
   },
   "file_extension": ".py",
   "mimetype": "text/x-python",
   "name": "python",
   "nbconvert_exporter": "python",
   "pygments_lexer": "ipython3",
   "version": "3.7.4"
  }
 },
 "nbformat": 4,
 "nbformat_minor": 2
}
